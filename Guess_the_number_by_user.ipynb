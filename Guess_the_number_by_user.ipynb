{
  "nbformat": 4,
  "nbformat_minor": 0,
  "metadata": {
    "colab": {
      "provenance": [],
      "authorship_tag": "ABX9TyPd5AFbp7ow/zGPE78VZo28",
      "include_colab_link": true
    },
    "kernelspec": {
      "name": "python3",
      "display_name": "Python 3"
    },
    "language_info": {
      "name": "python"
    }
  },
  "cells": [
    {
      "cell_type": "markdown",
      "metadata": {
        "id": "view-in-github",
        "colab_type": "text"
      },
      "source": [
        "<a href=\"https://colab.research.google.com/github/creativesar/Guess-the-number-User-/blob/main/Guess_the_number_by_user.ipynb\" target=\"_parent\"><img src=\"https://colab.research.google.com/assets/colab-badge.svg\" alt=\"Open In Colab\"/></a>"
      ]
    },
    {
      "cell_type": "code",
      "execution_count": null,
      "metadata": {
        "colab": {
          "base_uri": "https://localhost:8080/"
        },
        "id": "ZUoEm9MvAv1A",
        "outputId": "2f3695ff-7661-42c7-e4c7-e741887491b4"
      },
      "outputs": [
        {
          "output_type": "stream",
          "name": "stdout",
          "text": [
            "Welcome to the Guess the Number game!\n",
            "I'm thinking of a number between 1 and 100. You have 10 attempts.\n"
          ]
        }
      ],
      "source": [
        "import random\n",
        "\n",
        "def guess_the_number():\n",
        "    # Generate a random number between 1 and 100\n",
        "    secret_number = random.randint(1, 100)\n",
        "    attempts = 0\n",
        "    max_attempts = 10\n",
        "\n",
        "    print(\"Welcome to the Guess the Number game!\")\n",
        "    print(f\"I'm thinking of a number between 1 and 100. You have {max_attempts} attempts.\")\n",
        "\n",
        "    while attempts < max_attempts:\n",
        "        # Get user input\n",
        "        try:\n",
        "            guess = int(input(\"Enter your guess: \"))\n",
        "        except ValueError:\n",
        "            print(\"Please enter a valid number.\")\n",
        "            continue\n",
        "\n",
        "        attempts += 1\n",
        "\n",
        "        # Check the guess\n",
        "        if guess < secret_number:\n",
        "            print(\"Too low!\")\n",
        "        elif guess > secret_number:\n",
        "            print(\"Too high!\")\n",
        "        else:\n",
        "            print(f\"Congratulations! You guessed the number in {attempts} attempts!\")\n",
        "            break\n",
        "\n",
        "        # Inform player of remaining attempts\n",
        "        remaining = max_attempts - attempts\n",
        "        if remaining > 0:\n",
        "            print(f\"You have {remaining} attempts left.\")\n",
        "\n",
        "    if attempts >= max_attempts and guess != secret_number:\n",
        "        print(f\"Game over! The number was {secret_number}.\")\n",
        "\n",
        "    # Ask if player wants to play again\n",
        "    play_again = input(\"Do you want to play again? (yes/no): \").lower()\n",
        "    if play_again == \"yes\" or play_again == \"y\":\n",
        "        guess_the_number()\n",
        "    else:\n",
        "        print(\"Thanks for playing! Goodbye!\")\n",
        "\n",
        "# Start the game\n",
        "if __name__ == \"__main__\":\n",
        "    guess_the_number()"
      ]
    }
  ]
}